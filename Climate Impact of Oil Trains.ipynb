{
 "cells": [
  {
   "cell_type": "markdown",
   "metadata": {},
   "source": [
    "# How many tons of carbon dioxide (CO$_2$) emissions would come from a unit train full of Bakken crude? \n",
    "\n",
    "Given some basic info about the volume of a tank car, the composition of Bakken crude (or sweet light crude), if you consumed all the fuel produced (ie, refined), how many tons of CO$_2$ would be released? \n",
    "\n",
    "Crude oil is not burned directly, but refined into different products that have different carbon emissions when burned. \n",
    "\n",
    "We can calculate the climate impact of a crude oil train as follows: \n",
    "\n",
    "$$ CO_2/\\text{train car} = \\frac{\\text{crude volume}}{\\text{train car}} \\cdot \\sum_{i = \\text{lightest fuel}}^{\\text{heaviest}} (\\text{fuel type}_i*\\text{emitted CO}_2 ) $$"
   ]
  },
  {
   "cell_type": "code",
   "execution_count": 1,
   "metadata": {
    "collapsed": true
   },
   "outputs": [],
   "source": [
    "train_car_gallons = 34500 # gallon of crude oil/train car, source: http://www.mass.gov/eopss/docs/dfs/mfa/hazmat-training/ethanol/03-transportation-and-transfer-of-ethanol-blended-fuels.ppt\n",
    "fuel_types = ['light_ends', 'gasoline', 'diesel_distillate', 'jet_fuel_kerosene', 'residual']\n",
    "crude_component = [0.07, .441, 0, 0.05, 0.427] # volumetric fraction of Bakken crude per volume, source: Page 40, Table titled: Refinery Intake/Yield Bakken Light Sweet https://www.netl.doe.gov/File%20Library/Research/Oil-Gas/FE0000516_FinalReport.pdf\n",
    "emissions = [13.7, 19.6, 22.5, 21.1, 26] # pounds co2/gallon fuel, source: https://www.eia.gov/environment/emissions/co2_vol_mass.php\n",
    "lbs_per_ton = 2204.62 # pounds per metric ton\n",
    "# python stuff\n",
    "import numpy as np \n",
    "import pandas as pd"
   ]
  },
  {
   "cell_type": "code",
   "execution_count": 2,
   "metadata": {
    "collapsed": false,
    "scrolled": true
   },
   "outputs": [
    {
     "data": {
      "text/html": [
       "<div>\n",
       "<style scoped>\n",
       "    .dataframe tbody tr th:only-of-type {\n",
       "        vertical-align: middle;\n",
       "    }\n",
       "\n",
       "    .dataframe tbody tr th {\n",
       "        vertical-align: top;\n",
       "    }\n",
       "\n",
       "    .dataframe thead th {\n",
       "        text-align: right;\n",
       "    }\n",
       "</style>\n",
       "<table border=\"1\" class=\"dataframe\">\n",
       "  <thead>\n",
       "    <tr style=\"text-align: right;\">\n",
       "      <th></th>\n",
       "      <th>Fraction</th>\n",
       "      <th>CO2Emissions</th>\n",
       "    </tr>\n",
       "  </thead>\n",
       "  <tbody>\n",
       "    <tr>\n",
       "      <th>light_ends</th>\n",
       "      <td>0.070</td>\n",
       "      <td>13.7</td>\n",
       "    </tr>\n",
       "    <tr>\n",
       "      <th>gasoline</th>\n",
       "      <td>0.441</td>\n",
       "      <td>19.6</td>\n",
       "    </tr>\n",
       "    <tr>\n",
       "      <th>diesel_distillate</th>\n",
       "      <td>0.000</td>\n",
       "      <td>22.5</td>\n",
       "    </tr>\n",
       "    <tr>\n",
       "      <th>jet_fuel_kerosene</th>\n",
       "      <td>0.050</td>\n",
       "      <td>21.1</td>\n",
       "    </tr>\n",
       "    <tr>\n",
       "      <th>residual</th>\n",
       "      <td>0.427</td>\n",
       "      <td>26.0</td>\n",
       "    </tr>\n",
       "  </tbody>\n",
       "</table>\n",
       "</div>"
      ],
      "text/plain": [
       "                   Fraction  CO2Emissions\n",
       "light_ends            0.070          13.7\n",
       "gasoline              0.441          19.6\n",
       "diesel_distillate     0.000          22.5\n",
       "jet_fuel_kerosene     0.050          21.1\n",
       "residual              0.427          26.0"
      ]
     },
     "execution_count": 2,
     "metadata": {},
     "output_type": "execute_result"
    }
   ],
   "source": [
    "dataframe = pd.DataFrame(np.array([crude_component, emissions]).T, \n",
    "                         columns = ['Fraction', 'CO2Emissions'], \n",
    "             index = fuel_types)\n",
    "dataframe"
   ]
  },
  {
   "cell_type": "code",
   "execution_count": 3,
   "metadata": {
    "collapsed": false
   },
   "outputs": [
    {
     "data": {
      "text/plain": [
       "340.51500938937323"
      ]
     },
     "execution_count": 3,
     "metadata": {},
     "output_type": "execute_result"
    }
   ],
   "source": [
    "co2_per_car = train_car_gallons* dataframe.product(axis=1).sum()/lbs_per_ton\n",
    "co2_per_car"
   ]
  },
  {
   "cell_type": "markdown",
   "metadata": {},
   "source": [
    "tons of CO$_2$ is emitted by burning the distilled products in one car of Bakken crude oil. This can translate into : "
   ]
  },
  {
   "cell_type": "code",
   "execution_count": 4,
   "metadata": {
    "collapsed": false
   },
   "outputs": [
    {
     "data": {
      "text/plain": [
       "11918.025328628064"
      ]
     },
     "execution_count": 4,
     "metadata": {},
     "output_type": "execute_result"
    }
   ],
   "source": [
    "co2_per_car*35"
   ]
  },
  {
   "cell_type": "markdown",
   "metadata": {},
   "source": [
    "tons of CO$_2$ per unit train car (made up of 35 trains). If we take an average personal annual emission of 20 tons of CO$_2$ (see: coolclimate.berkeley.edu/calculator), then this represents"
   ]
  },
  {
   "cell_type": "code",
   "execution_count": 5,
   "metadata": {
    "collapsed": false
   },
   "outputs": [
    {
     "data": {
      "text/plain": [
       "595.9012664314032"
      ]
     },
     "execution_count": 5,
     "metadata": {},
     "output_type": "execute_result"
    }
   ],
   "source": [
    "co2_per_car*35/20"
   ]
  },
  {
   "cell_type": "markdown",
   "metadata": {},
   "source": [
    "years of personal emissions. That is, one oil train contains over 500 years of emissions."
   ]
  }
 ],
 "metadata": {
  "kernelspec": {
   "display_name": "Python 2",
   "language": "python",
   "name": "python2"
  },
  "language_info": {
   "codemirror_mode": {
    "name": "ipython",
    "version": 2
   },
   "file_extension": ".py",
   "mimetype": "text/x-python",
   "name": "python",
   "nbconvert_exporter": "python",
   "pygments_lexer": "ipython2",
   "version": "2.7.11"
  }
 },
 "nbformat": 4,
 "nbformat_minor": 0
}
